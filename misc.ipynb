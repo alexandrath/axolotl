{
 "cells": [
  {
   "cell_type": "code",
   "execution_count": null,
   "metadata": {},
   "outputs": [],
   "source": [
    "# Plot positions of selected electrodes\n",
    "plt.figure(figsize=(6, 6))\n",
    "plt.scatter(ei_positions[selected_channels_plot, 0], ei_positions[selected_channels_plot, 1], c='m', s=80)\n",
    "for i in selected_channels_plot:\n",
    "    x, y = ei_positions[i]\n",
    "    plt.text(x + 5, y, str(i), fontsize=8)\n",
    "plt.title(f\"Selected electrodes for unit {unit_idx}\")\n",
    "plt.xlabel(\"x\")\n",
    "plt.ylabel(\"y\")\n",
    "plt.axis(\"equal\")\n",
    "plt.show()\n"
   ]
  },
  {
   "cell_type": "code",
   "execution_count": null,
   "metadata": {},
   "outputs": [],
   "source": [
    "import matplotlib.pyplot as plt\n",
    "\n",
    "# Select a few example channels to plot (e.g., first 5)\n",
    "channels_to_plot = selected_by_ei[:5]\n",
    "\n",
    "plt.figure(figsize=(10, 6))\n",
    "\n",
    "for i, ch in enumerate(channels_to_plot):\n",
    "    ei_idx = np.where(selected_by_ei == ch)[0][0]  # find row in ei_waveforms\n",
    "\n",
    "    wf = ei_waveforms[ei_idx, :]\n",
    "    mask = ei_masks[ei_idx, :]\n",
    "\n",
    "    plt.subplot(len(channels_to_plot), 1, i + 1)\n",
    "    plt.plot(wf, label=f'Electrode {ch}', color='black')\n",
    "    plt.plot(np.where(mask)[0], wf[mask], 'ro', markersize=3, label='masked')\n",
    "    plt.axhline(0, color='gray', linestyle='--', linewidth=0.5)\n",
    "    plt.legend(loc='upper right')\n",
    "\n",
    "plt.suptitle(\"EI waveforms (masked in red)\")\n",
    "plt.tight_layout()\n",
    "plt.show()\n"
   ]
  },
  {
   "cell_type": "code",
   "execution_count": null,
   "metadata": {},
   "outputs": [],
   "source": [
    "print(f\"Detected {len(final_spike_times)} spike candidates.\")\n",
    "\n",
    "print(\"Total local peaks:\", len(peaks))\n",
    "print(\"Above threshold:\", np.sum(mean_score[peaks] > score_threshold))\n",
    "print(\"Valid channel count > 3:\", np.sum(valid_score[peaks] > 3))\n",
    "print(\"Final spike count:\", len(final_spike_times))\n",
    "\n",
    "print(\"score_threshold:\", score_threshold)\n",
    "\n",
    "print(\"Num spikes:\", len(final_spike_times))\n",
    "print(\"Min:\", np.min(final_spike_times))\n",
    "print(\"Max:\", np.max(final_spike_times))\n",
    "print(\"First 20:\", final_spike_times[:20])"
   ]
  },
  {
   "cell_type": "code",
   "execution_count": null,
   "metadata": {},
   "outputs": [],
   "source": [
    "import scipy.io as sio\n",
    "\n",
    "sio.savemat('/Volumes/Lab/Users/alexth/axolotl/score_debug.mat', {\n",
    "    'mean_score': mean_score.astype(np.float32),\n",
    "    'valid_score': valid_score.astype(np.int32)\n",
    "})\n"
   ]
  },
  {
   "cell_type": "code",
   "execution_count": null,
   "metadata": {},
   "outputs": [],
   "source": [
    "import scipy.io as sio\n",
    "import numpy as np\n",
    "\n",
    "sio.savemat('/Volumes/Lab/Users/alexth/axolotl/final_spike_times.mat', {\n",
    "    'final_spike_times': np.array(final_spike_times, dtype=np.int64)\n",
    "})"
   ]
  },
  {
   "cell_type": "code",
   "execution_count": null,
   "metadata": {},
   "outputs": [],
   "source": [
    "from sklearn.decomposition import PCA\n",
    "from sklearn.cluster import KMeans\n",
    "\n",
    "# Subset to selected channels\n",
    "snips_sel = snips[selected_by_ei, :, :]  # [C x T x N]\n",
    "n_spikes = snips_sel.shape[2]\n",
    "\n",
    "# Reshape to [N x (C*T)] for PCA\n",
    "snips_flat = snips_sel.transpose(2, 0, 1).reshape(n_spikes, -1)\n",
    "\n",
    "# Run PCA\n",
    "pca = PCA(n_components=10)\n",
    "pcs = pca.fit_transform(snips_flat)\n",
    "\n",
    "# Run k-means clustering\n",
    "k = 8\n",
    "kmeans = KMeans(n_clusters=k, n_init=10, random_state=1)\n",
    "labels = kmeans.fit_predict(pcs)\n"
   ]
  },
  {
   "cell_type": "code",
   "execution_count": null,
   "metadata": {},
   "outputs": [],
   "source": [
    "import matplotlib.pyplot as plt\n",
    "\n",
    "plt.figure(figsize=(6, 6))\n",
    "plt.scatter(pcs[:, 0], pcs[:, 1], s=5, alpha=0.6)\n",
    "plt.xlabel(\"PC1\")\n",
    "plt.ylabel(\"PC2\")\n",
    "plt.title(\"PCA: PC1 vs PC2\")\n",
    "plt.grid(True)\n",
    "plt.show()\n"
   ]
  },
  {
   "cell_type": "code",
   "execution_count": null,
   "metadata": {},
   "outputs": [],
   "source": [
    "import torch\n",
    "\n",
    "snips_torch = torch.from_numpy(snips)  # shape [C x T x N]\n",
    "\n",
    "ei_per_cluster = []\n",
    "for i in range(k):\n",
    "    inds = torch.where(torch.tensor(labels) == i)[0]\n",
    "    if len(inds) == 0:\n",
    "        ei = torch.zeros_like(torch.from_numpy(ei_template))\n",
    "    else:\n",
    "        snips_i = snips_torch[:, :, inds]\n",
    "        ei = torch.mean(snips_i, dim=2)\n",
    "        ei = ei - ei[:, :5].mean(dim=1, keepdim=True)\n",
    "    ei_per_cluster.append(ei.numpy())\n"
   ]
  },
  {
   "cell_type": "code",
   "execution_count": null,
   "metadata": {},
   "outputs": [],
   "source": [
    "import matplotlib.pyplot as plt\n",
    "\n",
    "n_clusters = len(ei_per_cluster)\n",
    "top_channels = selected_by_ei[:5]  # just a few for visual clarity\n",
    "\n",
    "fig, axs = plt.subplots(n_clusters, len(top_channels), figsize=(15, 2.5 * n_clusters), sharex=True, sharey=True)\n",
    "\n",
    "for i, ei in enumerate(ei_per_cluster):\n",
    "    for j, ch in enumerate(top_channels):\n",
    "        axs[i, j].plot(ei[ch, :])\n",
    "        axs[i, j].set_title(f\"Cl {i} | Ch {ch}\")\n",
    "plt.tight_layout()\n",
    "plt.show()"
   ]
  },
  {
   "cell_type": "code",
   "execution_count": null,
   "metadata": {},
   "outputs": [],
   "source": [
    "from save_eis_for_matlab import save_eis_for_matlab\n",
    "\n",
    "save_path = '/Volumes/Lab/Users/alexth/axolotl/eis_for_matlab.mat'\n",
    "save_eis_for_matlab(ei_per_cluster, save_path)"
   ]
  },
  {
   "cell_type": "code",
   "execution_count": null,
   "metadata": {},
   "outputs": [],
   "source": [
    "from plot_ei_python import plot_ei_python\n",
    "\n",
    "ei = ei_per_cluster[0]\n",
    "plot_ei_python(ei, ei_positions, label=selected_by_ei, scale=25, neg_color='red', pos_color='black')\n"
   ]
  },
  {
   "cell_type": "code",
   "execution_count": null,
   "metadata": {},
   "outputs": [],
   "source": [
    "import matplotlib.pyplot as plt\n",
    "from plot_ei_python import plot_ei_python\n",
    "\n",
    "n_eis = 8\n",
    "rows = 4\n",
    "cols = 2\n",
    "\n",
    "fig, axs = plt.subplots(rows, cols, figsize=(15, 2.5 * n_eis))\n",
    "axs = axs.flatten()\n",
    "\n",
    "for i, ax in enumerate(axs[:n_eis]):\n",
    "    ei = ei_per_cluster[i]\n",
    "    title = f\"Cluster {i}, {np.sum(labels == i)} spikes\"\n",
    "    plot_ei_python(ei, ei_positions, label=selected_by_ei, scale=25,\n",
    "                   neg_color='red', pos_color='black', ax=ax)\n",
    "    ax.set_title(title, fontsize=10)\n",
    "\n",
    "plt.tight_layout()\n",
    "plt.show()\n"
   ]
  },
  {
   "cell_type": "code",
   "execution_count": null,
   "metadata": {},
   "outputs": [],
   "source": [
    "from compare_eis import compare_eis\n",
    "\n",
    "similarity_matrix = compare_eis(ei_per_cluster, ei_template)\n",
    "\n",
    "np.set_printoptions(precision=2, suppress=True)\n",
    "print(similarity_matrix)"
   ]
  },
  {
   "cell_type": "code",
   "execution_count": null,
   "metadata": {},
   "outputs": [],
   "source": [
    "import refine_cluster\n",
    "import importlib\n",
    "importlib.reload(refine_cluster)"
   ]
  },
  {
   "cell_type": "code",
   "execution_count": null,
   "metadata": {},
   "outputs": [],
   "source": [
    "from plot_ei_python import plot_ei_python\n",
    "\n",
    "plot_ei_python(ei_numpy, ei_positions, label=selected_by_ei, scale=25, neg_color='red', pos_color='black')"
   ]
  },
  {
   "cell_type": "code",
   "execution_count": null,
   "metadata": {},
   "outputs": [],
   "source": [
    "import matplotlib.pyplot as plt\n",
    "\n",
    "plt.figure(figsize=(12, 4))\n",
    "plt.plot(mean_score[:10_000])\n",
    "plt.title(\"First 10,000 values of mean_score\")\n",
    "plt.xlabel(\"Sample index\")\n",
    "plt.ylabel(\"Template match score\")\n",
    "plt.grid(True)\n",
    "plt.tight_layout()\n",
    "plt.show()"
   ]
  },
  {
   "cell_type": "code",
   "execution_count": null,
   "metadata": {},
   "outputs": [],
   "source": [
    "from run_template_scoring_gpu import run_template_scoring_gpu\n",
    "\n",
    "# Dummy inputs (just to test reading and baseline calculation)\n",
    "block_megabytes = 1  # will read ~1000 samples = 1MB\n",
    "selected_channels = selected_by_ei  # from earlier\n",
    "start_sample = 0\n",
    "total_samples = 36_000_000  # small test value\n",
    "\n",
    "# Use your real template + mask + norm arrays (already built)\n",
    "mean_score, max_score, valid_score = run_template_scoring_gpu(\n",
    "    dat_path,\n",
    "    ei_template=ei_template[selected_channels, :],\n",
    "    ei_masks=ei_masks,\n",
    "    ei_norms=ei_norms,\n",
    "    selected_channels=selected_channels,\n",
    "    start_sample=start_sample,\n",
    "    total_samples=total_samples,\n",
    "    dtype='int16',\n",
    "    block_size=None\n",
    ")"
   ]
  },
  {
   "cell_type": "code",
   "execution_count": null,
   "metadata": {},
   "outputs": [],
   "source": [
    "import matplotlib.pyplot as plt\n",
    "\n",
    "plt.figure(figsize=(12, 4))\n",
    "plt.plot(valid_score)\n",
    "plt.title(\"Template matching score across time\")\n",
    "plt.xlabel(\"Timepoint (sample index)\")\n",
    "plt.ylabel(\"Mean dot product\")\n",
    "plt.grid(True)\n",
    "plt.show()"
   ]
  }
 ],
 "metadata": {
  "kernelspec": {
   "display_name": "autoencoder_env",
   "language": "python",
   "name": "python3"
  },
  "language_info": {
   "name": "python",
   "version": "3.9.21"
  }
 },
 "nbformat": 4,
 "nbformat_minor": 2
}
